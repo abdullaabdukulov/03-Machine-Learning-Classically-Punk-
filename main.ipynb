{
 "cells": [
  {
   "cell_type": "code",
   "execution_count": null,
   "metadata": {},
   "outputs": [],
   "source": [
    "import warnings\n",
    "warnings.filterwarnings('ignore')\n",
    "\n",
    "import numpy as np\n",
    "import pandas as pd\n",
    "\n",
    "import plotly.graph_objects as go\n",
    "from plotly.subplots import make_subplots\n",
    "\n",
    "import librosa\n",
    "\n",
    "from sklearn.model_selection import train_test_split\n",
    "from sklearn.preprocessing import LabelEncoder\n",
    "from sklearn.metrics import accuracy_score\n",
    "\n",
    "from keras.models import Sequential\n",
    "from keras.layers import Conv2D, BatchNormalization, MaxPooling2D, Flatten, Dense, Dropout\n",
    "from keras.optimizers import RMSprop\n",
    "from keras.callbacks import ReduceLROnPlateau"
   ]
  },
  {
   "cell_type": "code",
   "execution_count": null,
   "metadata": {},
   "outputs": [],
   "source": [
    "labels = pd.read_csv('labels.csv')\n",
    "length = labels.shape[0]\n",
    "idx = 0\n",
    "\n",
    "while idx < length:\n",
    "    filepath = labels.iloc[idx]['filepath']\n",
    "    genre = labels.iloc[idx]['filename']\n",
    "\n",
    "    y, sr = librosa.load(filepath)\n",
    "\n",
    "    fig = make_subplots(rows=1, cols=2, subplot_titles=['Waveform', 'Chroma Features'])\n",
    "\n",
    "    ax1 = fig.add_trace(go.Scatter(y=y, line=dict(color='blue')), row=1, col=1)\n",
    "\n",
    "    chromagram = librosa.feature.chroma_stft(y=y, sr=sr)\n",
    "    ax2 = fig.add_trace(go.Heatmap(z=chromagram, colorscale='Viridis'), row=1, col=2)\n",
    "\n",
    "    fig.update_layout(height=600, width=1000, title=genre)\n",
    "    fig.show()"
   ]
  },
  {
   "cell_type": "code",
   "execution_count": null,
   "metadata": {},
   "outputs": [],
   "source": [
    "def plot_history(history):\n",
    "    fig = make_subplots(rows=2, cols=1, subplot_titles=(\"Accuracy eval\", \"Error eval\"))\n",
    "\n",
    "    fig.add_trace(go.Scatter(y=history.history[\"accuracy\"], mode='lines', name='Train Accuracy'), row=1, col=1)\n",
    "    fig.add_trace(go.Scatter(y=history.history[\"val_accuracy\"], mode='lines', name='Validation Accuracy'), row=1, col=1)\n",
    "\n",
    "    fig.add_trace(go.Scatter(y=history.history[\"loss\"], mode='lines', name='Train Error'), row=2, col=1)\n",
    "    fig.add_trace(go.Scatter(y=history.history[\"val_loss\"], mode='lines', name='Validation Error'), row=2, col=1)\n",
    "\n",
    "    fig.update_yaxes(title_text=\"Accuracy\", row=1, col=1)\n",
    "    fig.update_xaxes(title_text=\"Epoch\", row=1, col=1)\n",
    "    fig.update_yaxes(title_text=\"Error\", row=2, col=1)\n",
    "    fig.update_xaxes(title_text=\"Epoch\", row=2, col=1)\n",
    "\n",
    "    fig.update_layout(height=800, width=800, title_text=\"Training History\")\n",
    "    fig.show()"
   ]
  },
  {
   "cell_type": "code",
   "execution_count": null,
   "metadata": {},
   "outputs": [],
   "source": [
    "df = pd.read_csv('gtzan_features.csv')\n",
    "\n",
    "X = df.iloc[:, :-1].values\n",
    "y = df['labels'].values\n",
    "\n",
    "X = X.reshape(X.shape[0], X.shape[1], 1, 1)"
   ]
  },
  {
   "cell_type": "code",
   "execution_count": null,
   "metadata": {},
   "outputs": [],
   "source": [
    "label_encoder = LabelEncoder()\n",
    "y_encoded = label_encoder.fit_transform(y)\n",
    "\n",
    "X_train, X_temp, y_train, y_temp = train_test_split(X, y_encoded, test_size=0.3, random_state=42)\n",
    "X_val, X_test, y_val, y_test = train_test_split(X_temp, y_temp, test_size=0.5, random_state=42)"
   ]
  },
  {
   "cell_type": "code",
   "execution_count": null,
   "metadata": {},
   "outputs": [],
   "source": [
    "model = Sequential([\n",
    "    Conv2D(32, (3, 3), activation='relu', input_shape=X_train.shape[1:], padding='same'),\n",
    "    BatchNormalization(),\n",
    "    Conv2D(64, (3, 3), activation='relu', padding='same'),\n",
    "    BatchNormalization(),\n",
    "    Conv2D(64, (3, 3), activation='relu', padding='same'),\n",
    "    BatchNormalization(),\n",
    "    MaxPooling2D((2, 2), padding='same'),\n",
    "    Flatten(),\n",
    "    Dense (128, activation='relu'),\n",
    "    Dropout(0.5),\n",
    "    Dense(len(np.unique(y)), activation='softmax')\n",
    "])\n",
    "optimiser = RMSprop(learning_rate=0.0001)\n",
    "model.compile(optimizer=optimiser,\n",
    "              loss='sparse_categorical_crossentropy',\n",
    "              metrics=['accuracy'])\n",
    "reduce_lr = ReduceLROnPlateau(monitor='val_loss', factor=0.2, patience=3, min_lr=0.0001)\n",
    "history = model.fit(X_train, y_train, epochs=50,\n",
    "                    validation_data=(X_val, y_val),\n",
    "                    callbacks=[reduce_lr])"
   ]
  },
  {
   "cell_type": "code",
   "execution_count": null,
   "metadata": {},
   "outputs": [],
   "source": [
    "y_pred = model.predict(X_test)\n",
    "y_pred_decoded = np.argmax(y_pred, axis=1)\n",
    "accuracy = accuracy_score(y_test, y_pred_decoded)\n",
    "print(f'Test accuracy: {round(accuracy, 3)* 100}%')"
   ]
  },
  {
   "cell_type": "code",
   "execution_count": null,
   "metadata": {},
   "outputs": [],
   "source": [
    "plot_history(history)"
   ]
  }
 ],
 "metadata": {
  "language_info": {
   "name": "python"
  }
 },
 "nbformat": 4,
 "nbformat_minor": 2
}
