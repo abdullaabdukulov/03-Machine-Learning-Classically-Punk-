{
 "cells": [
  {
   "cell_type": "code",
   "execution_count": 1,
   "metadata": {},
   "outputs": [
    {
     "name": "stdout",
     "output_type": "stream",
     "text": [
      "Defaulting to user installation because normal site-packages is not writeable\n",
      "Requirement already satisfied: librosa in /Users/user/Library/Python/3.9/lib/python/site-packages (0.10.1)\n",
      "Requirement already satisfied: numba>=0.51.0 in /Users/user/Library/Python/3.9/lib/python/site-packages (from librosa) (0.59.0)\n",
      "Requirement already satisfied: soundfile>=0.12.1 in /Users/user/Library/Python/3.9/lib/python/site-packages (from librosa) (0.12.1)\n",
      "Requirement already satisfied: typing-extensions>=4.1.1 in /Users/user/Library/Python/3.9/lib/python/site-packages (from librosa) (4.8.0)\n",
      "Requirement already satisfied: numpy!=1.22.0,!=1.22.1,!=1.22.2,>=1.20.3 in /Users/user/Library/Python/3.9/lib/python/site-packages (from librosa) (1.26.1)\n",
      "Requirement already satisfied: msgpack>=1.0 in /Users/user/Library/Python/3.9/lib/python/site-packages (from librosa) (1.0.8)\n",
      "Requirement already satisfied: joblib>=0.14 in /Users/user/Library/Python/3.9/lib/python/site-packages (from librosa) (1.3.2)\n",
      "Requirement already satisfied: decorator>=4.3.0 in /Users/user/Library/Python/3.9/lib/python/site-packages (from librosa) (5.1.1)\n",
      "Requirement already satisfied: pooch>=1.0 in /Users/user/Library/Python/3.9/lib/python/site-packages (from librosa) (1.8.1)\n",
      "Requirement already satisfied: scikit-learn>=0.20.0 in /Users/user/Library/Python/3.9/lib/python/site-packages (from librosa) (1.4.1.post1)\n",
      "Requirement already satisfied: scipy>=1.2.0 in /Users/user/Library/Python/3.9/lib/python/site-packages (from librosa) (1.12.0)\n",
      "Requirement already satisfied: lazy-loader>=0.1 in /Users/user/Library/Python/3.9/lib/python/site-packages (from librosa) (0.3)\n",
      "Requirement already satisfied: soxr>=0.3.2 in /Users/user/Library/Python/3.9/lib/python/site-packages (from librosa) (0.3.7)\n",
      "Requirement already satisfied: audioread>=2.1.9 in /Users/user/Library/Python/3.9/lib/python/site-packages (from librosa) (3.0.1)\n",
      "Requirement already satisfied: llvmlite<0.43,>=0.42.0dev0 in /Users/user/Library/Python/3.9/lib/python/site-packages (from numba>=0.51.0->librosa) (0.42.0)\n",
      "Requirement already satisfied: platformdirs>=2.5.0 in /Users/user/Library/Python/3.9/lib/python/site-packages (from pooch>=1.0->librosa) (3.11.0)\n",
      "Requirement already satisfied: requests>=2.19.0 in /Users/user/Library/Python/3.9/lib/python/site-packages (from pooch>=1.0->librosa) (2.31.0)\n",
      "Requirement already satisfied: packaging>=20.0 in /Users/user/Library/Python/3.9/lib/python/site-packages (from pooch>=1.0->librosa) (23.2)\n",
      "Requirement already satisfied: charset-normalizer<4,>=2 in /Users/user/Library/Python/3.9/lib/python/site-packages (from requests>=2.19.0->pooch>=1.0->librosa) (3.2.0)\n",
      "Requirement already satisfied: urllib3<3,>=1.21.1 in /Users/user/Library/Python/3.9/lib/python/site-packages (from requests>=2.19.0->pooch>=1.0->librosa) (2.0.5)\n",
      "Requirement already satisfied: idna<4,>=2.5 in /Users/user/Library/Python/3.9/lib/python/site-packages (from requests>=2.19.0->pooch>=1.0->librosa) (3.4)\n",
      "Requirement already satisfied: certifi>=2017.4.17 in /Users/user/Library/Python/3.9/lib/python/site-packages (from requests>=2.19.0->pooch>=1.0->librosa) (2023.7.22)\n",
      "Requirement already satisfied: threadpoolctl>=2.0.0 in /Users/user/Library/Python/3.9/lib/python/site-packages (from scikit-learn>=0.20.0->librosa) (3.3.0)\n",
      "Requirement already satisfied: cffi>=1.0 in /Users/user/Library/Python/3.9/lib/python/site-packages (from soundfile>=0.12.1->librosa) (1.16.0)\n",
      "Requirement already satisfied: pycparser in /Users/user/Library/Python/3.9/lib/python/site-packages (from cffi>=1.0->soundfile>=0.12.1->librosa) (2.21)\n"
     ]
    }
   ],
   "source": [
    "!pip3 install  librosa"
   ]
  },
  {
   "cell_type": "code",
   "execution_count": 1,
   "metadata": {},
   "outputs": [
    {
     "name": "stderr",
     "output_type": "stream",
     "text": [
      "/Users/user/Library/Python/3.9/lib/python/site-packages/urllib3/__init__.py:34: NotOpenSSLWarning: urllib3 v2.0 only supports OpenSSL 1.1.1+, currently the 'ssl' module is compiled with 'LibreSSL 2.8.3'. See: https://github.com/urllib3/urllib3/issues/3020\n",
      "  warnings.warn(\n"
     ]
    }
   ],
   "source": [
    "import tarfile\n",
    "import os\n",
    "import numpy as np\n",
    "import pandas as pd\n",
    "from scipy.io import wavfile\n",
    "from scipy.signal import stft\n",
    "import matplotlib.pyplot as plt\n",
    "import seaborn as sns\n",
    "import urllib.request\n",
    "import plotly.express as px\n",
    "import shutil\n",
    "import librosa\n",
    "import librosa.display\n",
    "import IPython.display as ipd\n",
    "from sklearn.preprocessing import LabelEncoder, StandardScaler\n",
    "from sklearn.model_selection import train_test_split, cross_val_score\n",
    "from itertools import combinations\n",
    "import requests\n",
    "import warnings\n",
    "\n",
    "warnings.filterwarnings('ignore')\n",
    "\n",
    "from sklearn import metrics\n",
    "from sklearn.linear_model import LogisticRegression\n",
    "from sklearn.naive_bayes import GaussianNB\n",
    "from sklearn.neighbors import KNeighborsClassifier\n",
    "from sklearn.tree import DecisionTreeClassifier\n",
    "from sklearn.ensemble import RandomForestClassifier\n",
    "from sklearn.ensemble import ExtraTreesClassifier\n",
    "from sklearn.ensemble import GradientBoostingClassifier\n",
    "from sklearn.metrics import confusion_matrix\n",
    "from sklearn.neural_network import MLPClassifier"
   ]
  },
  {
   "cell_type": "code",
   "execution_count": 3,
   "metadata": {},
   "outputs": [],
   "source": [
    "def data_collecting(url, file_name):\n",
    "    if not os.path.exists(file_name):\n",
    "        response = requests.get(url)\n",
    "        if response.status_code == 200:\n",
    "            with open(file_name, 'wb') as f:\n",
    "                f.write(response.content)\n",
    "\n",
    "            shutil.unpack_archive(file_name, extract_dir=os.path.splitext(file_name)[0], format='gztar')\n",
    "            extracted_dir = os.path.splitext(file_name)[0]\n",
    "            if os.path.exists(extracted_dir) and not os.path.exists('genres'):\n",
    "                os.rename(extracted_dir, 'genres')\n",
    "            return True\n",
    "        else:\n",
    "            print(\"Failed to download the file. Status code:\", response.status_code)\n",
    "    return False"
   ]
  },
  {
   "cell_type": "code",
   "execution_count": 4,
   "metadata": {},
   "outputs": [],
   "source": [
    "def calculating(data):\n",
    "    results = []\n",
    "\n",
    "    for column_name, audio_path in data.iteritems():\n",
    "        for path in audio_path:\n",
    "            try:\n",
    "                y, sr = librosa.load(path)\n",
    "\n",
    "                \n",
    "                genre = os.path.basename(path).split('.')[0]\n",
    "\n",
    "                \n",
    "                length = librosa.get_duration(y=y, sr=sr)\n",
    "\n",
    "                \n",
    "                chroma_stft = librosa.feature.chroma_stft(y=y, sr=sr)\n",
    "                chroma_stft_mean = np.mean(chroma_stft)\n",
    "                chroma_stft_var = np.var(chroma_stft)\n",
    "\n",
    "                \n",
    "                rms = librosa.feature.rms(y=y)\n",
    "                rms_mean = np.mean(rms)\n",
    "                rms_var = np.var(rms)\n",
    "\n",
    "                \n",
    "                spectral_centroids = librosa.feature.spectral_centroid(y=y, sr=sr)\n",
    "                spectral_centroid_mean = np.mean(spectral_centroids)\n",
    "                spectral_centroid_var = np.var(spectral_centroids)\n",
    "\n",
    "                \n",
    "                spectral_bandwidths = librosa.feature.spectral_bandwidth(y=y, sr=sr)\n",
    "                spectral_bandwidth_mean = np.mean(spectral_bandwidths)\n",
    "                spectral_bandwidth_var = np.var(spectral_bandwidths)\n",
    "\n",
    "                \n",
    "                rolloffs = librosa.feature.spectral_rolloff(y=y, sr=sr)\n",
    "                rolloff_mean = np.mean(rolloffs)\n",
    "                rolloff_var = np.var(rolloffs)\n",
    "\n",
    "                \n",
    "                zero_crossing_rates = librosa.feature.zero_crossing_rate(y)\n",
    "                zero_crossing_rate_mean = np.mean(zero_crossing_rates)\n",
    "                zero_crossing_rate_var = np.var(zero_crossing_rates)\n",
    "\n",
    "                \n",
    "                harmony = librosa.effects.harmonic(y=y)\n",
    "                harmony_mean = np.mean(harmony)\n",
    "                harmony_var = np.var(harmony)\n",
    "\n",
    "                \n",
    "                tempo, _ = librosa.beat.beat_track(y=y, sr=sr)\n",
    "\n",
    "                \n",
    "                mfccs = librosa.feature.mfcc(y=y, sr=sr)\n",
    "                mfcc_mean = np.mean(mfccs, axis=1)\n",
    "                mfcc_var = np.var(mfccs, axis=1)\n",
    "\n",
    "                \n",
    "                results.append([\n",
    "                    path,\n",
    "                    length,\n",
    "                    chroma_stft_mean,\n",
    "                    chroma_stft_var,\n",
    "                    rms_mean,\n",
    "                    rms_var,\n",
    "                    spectral_centroid_mean,\n",
    "                    spectral_centroid_var,\n",
    "                    spectral_bandwidth_mean,\n",
    "                    spectral_bandwidth_var,\n",
    "                    rolloff_mean,\n",
    "                    rolloff_var,\n",
    "                    zero_crossing_rate_mean,\n",
    "                    zero_crossing_rate_var,\n",
    "                    harmony_mean,\n",
    "                    harmony_var,\n",
    "                    tempo,\n",
    "                    mfcc_mean[0],\n",
    "                    mfcc_var[0],\n",
    "                    mfcc_mean[1],\n",
    "                    mfcc_var[1],\n",
    "                    mfcc_mean[2],\n",
    "                    mfcc_var[2],\n",
    "                    mfcc_mean[3],\n",
    "                    mfcc_var[3],\n",
    "                    mfcc_mean[4],\n",
    "                    mfcc_var[4],\n",
    "                    mfcc_mean[5],\n",
    "                    mfcc_var[5],\n",
    "                    mfcc_mean[6],\n",
    "                    mfcc_var[6],\n",
    "                    mfcc_mean[7],\n",
    "                    mfcc_var[7],\n",
    "                    mfcc_mean[8],\n",
    "                    mfcc_var[8],\n",
    "                    mfcc_mean[9],\n",
    "                    mfcc_var[9],\n",
    "                    mfcc_mean[10],\n",
    "                    mfcc_var[10],\n",
    "                    mfcc_mean[11],\n",
    "                    mfcc_var[11],\n",
    "                    mfcc_mean[12],\n",
    "                    mfcc_var[12],\n",
    "                    mfcc_mean[13],\n",
    "                    mfcc_var[13],\n",
    "                    mfcc_mean[14],\n",
    "                    mfcc_var[14],\n",
    "                    mfcc_mean[15],\n",
    "                    mfcc_var[15],\n",
    "                    mfcc_mean[16],\n",
    "                    mfcc_var[16],\n",
    "                    mfcc_mean[17],\n",
    "                    mfcc_var[17],\n",
    "                    mfcc_mean[18],\n",
    "                    mfcc_var[18],\n",
    "                    mfcc_mean[19],\n",
    "                    mfcc_var[19],\n",
    "                    genre \n",
    "                ])\n",
    "            except Exception as e:\n",
    "                print(f\"Error processing {path}: {e}\")\n",
    "\n",
    "    \n",
    "    columns = [\n",
    "        'audio_path',\n",
    "        'length',\n",
    "        'chroma_stft_mean',\n",
    "        'chroma_stft_var',\n",
    "        'rms_mean',\n",
    "        'rms_var',\n",
    "        'spectral_centroid_mean',\n",
    "        'spectral_centroid_var',\n",
    "        'spectral_bandwidth_mean',\n",
    "        'spectral_bandwidth_var',\n",
    "        'rolloff_mean',\n",
    "        'rolloff_var',\n",
    "        'zero_crossing_rate_mean',\n",
    "        'zero_crossing_rate_var',\n",
    "        'harmony_mean',\n",
    "        'harmony_var',\n",
    "        'tempo',\n",
    "        'mfcc1_mean',\n",
    "        'mfcc1_var',\n",
    "        'mfcc2_mean',\n",
    "        'mfcc2_var',\n",
    "        'mfcc3_mean',\n",
    "        'mfcc3_var',\n",
    "        'mfcc4_mean',\n",
    "        'mfcc4_var',\n",
    "        'mfcc5_mean',\n",
    "        'mfcc5_var',\n",
    "        'mfcc6_mean',\n",
    "        'mfcc6_var',\n",
    "        'mfcc7_mean',\n",
    "        'mfcc7_var',\n",
    "        'mfcc8_mean',\n",
    "        'mfcc8_var',\n",
    "        'mfcc9_mean',\n",
    "        'mfcc9_var',\n",
    "        'mfcc10_mean',\n",
    "        'mfcc10_var',\n",
    "        'mfcc11_mean',\n",
    "        'mfcc11_var',\n",
    "        'mfcc12_mean',\n",
    "        'mfcc12_var',\n",
    "        'mfcc13_mean',\n",
    "        'mfcc13_var',\n",
    "        'mfcc14_mean',\n",
    "        'mfcc14_var',\n",
    "        'mfcc15_mean',\n",
    "        'mfcc15_var',\n",
    "        'mfcc16_mean',\n",
    "        'mfcc16_var',\n",
    "        'mfcc17_mean',\n",
    "        'mfcc17_var',\n",
    "        'mfcc18_mean',\n",
    "        'mfcc18_var',\n",
    "        'mfcc19_mean',\n",
    "        'mfcc19_var',\n",
    "        'mfcc20_mean',\n",
    "        'mfcc20_var',\n",
    "        'genre' \n",
    "    ]\n",
    "\n",
    "\n",
    "\n",
    "    return pd.DataFrame(results, columns=columns)\n"
   ]
  },
  {
   "cell_type": "code",
   "execution_count": 5,
   "metadata": {},
   "outputs": [],
   "source": [
    "def read_music(file_path):\n",
    "    df = {}\n",
    "    sample_rate = {}\n",
    "    desired_length = 660000\n",
    "    with tarfile.open(file_path, 'r:gz') as tar:\n",
    "        tar.extractall(path='extracted_data')\n",
    "        for member in tar.getmembers():\n",
    "            if len(member.name.split('/')) > 2:\n",
    "                path = os.path.join('extracted_data', member.name)\n",
    "                audio_name = os.path.basename(path)\n",
    "                try:\n",
    "                    take, sr = librosa.load(path)\n",
    "                    sample_rate[audio_name] = sr\n",
    "                    take = take[:desired_length]\n",
    "                    df[audio_name] = path  # Store the file path instead of audio data\n",
    "                except Exception as e:\n",
    "                    print(f\"Error loading {audio_name}: {e}\")\n",
    "\n",
    "    data = pd.DataFrame(df, index=[0])  # Construct DataFrame with file paths\n",
    "    sample_rate = pd.DataFrame(sample_rate, index=['sample_rate'])\n",
    "    return data, sample_rate\n"
   ]
  },
  {
   "cell_type": "code",
   "execution_count": 6,
   "metadata": {},
   "outputs": [],
   "source": [
    "# url = 'https://storage.googleapis.com/qwasar-public/track-ds/classically_punk_music_genres.tar.gz'\n",
    "# file_name = 'genres_tar_file.tar.gz'\n",
    "\n",
    "# if data_collecting(url, file_name):\n",
    "#     data, sample_rate = read_music(file_name)\n",
    "#     print(\"Data collected successfully.\")\n",
    "\n",
    "#     # Now let's compute the features\n",
    "#     features = calculating(data)\n",
    "#     print(\"Features computed successfully.\")\n",
    "# else:\n",
    "#     print(\"Failed to collect data.\")"
   ]
  },
  {
   "cell_type": "code",
   "execution_count": 1,
   "metadata": {},
   "outputs": [],
   "source": [
    "def summarize_dataset(df):\n",
    "    print(f\"Dataset shape: \")\n",
    "    df.shape\n",
    "    print(\"\\n\\nDataset's summary:\")\n",
    "    df.info()\n",
    "    print(f\"First 10 rows of the dataset \\n{df.head(10)}\")\n",
    "# summarize_dataset(data)"
   ]
  },
  {
   "cell_type": "code",
   "execution_count": 2,
   "metadata": {},
   "outputs": [],
   "source": [
    "def data_visualize_rock(data):\n",
    "    plt.figure(figsize=(18, 2))\n",
    "    plt.plot(data[\"rock.00004.wav\"], color=\"blue\")\n",
    "    plt.title(\"Sound frequencies of Rock music\")\n",
    "    plt.ylabel(\"Frequency indicators\")\n",
    "    plt.show()"
   ]
  },
  {
   "cell_type": "code",
   "execution_count": null,
   "metadata": {},
   "outputs": [],
   "source": [
    "# data_visualize_rock(data)"
   ]
  },
  {
   "cell_type": "code",
   "execution_count": 3,
   "metadata": {},
   "outputs": [],
   "source": [
    "def data_visualize_hiphop(data):\n",
    "    plt.figure(figsize=(18, 2))\n",
    "    plt.plot(data[\"hiphop.00004.wav\"], color=\"green\")\n",
    "    plt.title(\"Sound frequencies of Hiphop music\")\n",
    "    plt.ylabel(\"Frequency indicators\")\n",
    "    plt.show()"
   ]
  },
  {
   "cell_type": "code",
   "execution_count": 4,
   "metadata": {},
   "outputs": [],
   "source": [
    "# data_visualize_hiphop(data)"
   ]
  },
  {
   "cell_type": "code",
   "execution_count": 5,
   "metadata": {},
   "outputs": [],
   "source": [
    "def data_visualize_blues(data):\n",
    "    plt.figure(figsize=(18, 2))\n",
    "    plt.plot(data[\"blues.00004.wav\"], color=\"red\")\n",
    "    plt.title(\"Sound frequencies of Blues music\")\n",
    "    plt.ylabel(\"Frequency indicators\")\n",
    "    plt.show()"
   ]
  },
  {
   "cell_type": "code",
   "execution_count": 6,
   "metadata": {},
   "outputs": [],
   "source": [
    "# data_visualize_blues(data)"
   ]
  },
  {
   "cell_type": "code",
   "execution_count": 7,
   "metadata": {},
   "outputs": [],
   "source": [
    "def data_visualize_classical(data):\n",
    "    plt.figure(figsize=(18, 2))\n",
    "    plt.plot(data[\"classical.00004.wav\"], color=\"magenta\")\n",
    "    plt.title(\"Sound frequencies of Classical music\")\n",
    "    plt.ylabel(\"Frequency indicators\")\n",
    "    plt.show()"
   ]
  },
  {
   "cell_type": "code",
   "execution_count": 8,
   "metadata": {},
   "outputs": [],
   "source": [
    "# data_visualize_classical(data)"
   ]
  },
  {
   "cell_type": "code",
   "execution_count": 9,
   "metadata": {},
   "outputs": [],
   "source": [
    "def data_visualize_country(data):\n",
    "    plt.figure(figsize=(18, 2))\n",
    "    plt.plot(data[\"country.00004.wav\"], color=\"yellow\")\n",
    "    plt.title(\"Sound frequencies of Country music\")\n",
    "    plt.ylabel(\"Frequency indicators\")\n",
    "    plt.show()"
   ]
  },
  {
   "cell_type": "code",
   "execution_count": 10,
   "metadata": {},
   "outputs": [],
   "source": [
    "# data_visualize_country(data)"
   ]
  },
  {
   "cell_type": "code",
   "execution_count": 11,
   "metadata": {},
   "outputs": [],
   "source": [
    "def data_visualize_disco(data):\n",
    "    plt.figure(figsize=(18, 2))\n",
    "    plt.plot(data[\"disco.00004.wav\"], color=\"cyan\")\n",
    "    plt.title(\"Sound frequencies of Disco music\")\n",
    "    plt.ylabel(\"Frequency indicators\")\n",
    "    plt.show()"
   ]
  },
  {
   "cell_type": "code",
   "execution_count": 12,
   "metadata": {},
   "outputs": [],
   "source": [
    "# data_visualize_disco(data)"
   ]
  },
  {
   "cell_type": "code",
   "execution_count": 13,
   "metadata": {},
   "outputs": [],
   "source": [
    "def data_visualize_jazz(data):\n",
    "    plt.figure(figsize=(18, 2))\n",
    "    plt.plot(data[\"jazz.00004.wav\"], color=\"orange\")\n",
    "    plt.title(\"Sound frequencies of Jazz music\")\n",
    "    plt.ylabel(\"Frequency indicators\")\n",
    "    plt.show()"
   ]
  },
  {
   "cell_type": "code",
   "execution_count": 14,
   "metadata": {},
   "outputs": [],
   "source": [
    "# data_visualize_jazz(data)"
   ]
  },
  {
   "cell_type": "code",
   "execution_count": 15,
   "metadata": {},
   "outputs": [],
   "source": [
    "def data_visualize_metal(data):\n",
    "    plt.figure(figsize=(18, 2))\n",
    "    plt.plot(data[\"metal.00004.wav\"], color=\"#BB0BEA\")\n",
    "    plt.title(\"Sound frequencies of Metal music\")\n",
    "    plt.ylabel(\"Frequency indicators\")\n",
    "    plt.show()"
   ]
  },
  {
   "cell_type": "code",
   "execution_count": 16,
   "metadata": {},
   "outputs": [],
   "source": [
    "# data_visualize_metal(data)"
   ]
  },
  {
   "cell_type": "code",
   "execution_count": 17,
   "metadata": {},
   "outputs": [],
   "source": [
    "def data_visualize_pop(data):\n",
    "    plt.figure(figsize=(18, 2))\n",
    "    plt.plot(data[\"pop.00004.wav\"], color=\"#F30C75\")\n",
    "    plt.title(\"Sound frequencies of Pop music\")\n",
    "    plt.ylabel(\"Frequency indicators\")\n",
    "    plt.show()"
   ]
  },
  {
   "cell_type": "code",
   "execution_count": 18,
   "metadata": {},
   "outputs": [],
   "source": [
    "# data_visualize_pop(data)"
   ]
  },
  {
   "cell_type": "code",
   "execution_count": 19,
   "metadata": {},
   "outputs": [],
   "source": [
    "def data_visualize_reggae(data):\n",
    "    plt.figure(figsize=(18, 2))\n",
    "    plt.plot(data[\"reggae.00004.wav\"], color=\"#0CF3E9\")\n",
    "    plt.title(\"Sound frequencies of Reggae music\")\n",
    "    plt.ylabel(\"Frequency indicators\")\n",
    "    plt.show()"
   ]
  },
  {
   "cell_type": "code",
   "execution_count": 20,
   "metadata": {},
   "outputs": [],
   "source": [
    "# data_visualize_reggae(data)"
   ]
  },
  {
   "cell_type": "code",
   "execution_count": 21,
   "metadata": {},
   "outputs": [],
   "source": [
    "def pop_vs_jazz(data):\n",
    "    plt.figure(figsize=(18, 2))\n",
    "    plt.plot(data[\"pop.00004.wav\"].values, color=\"#F30C75\", label=\"Pop\")\n",
    "    plt.plot(data[\"jazz.00004.wav\"].values, color=\"orange\", label=\"Jazz\")\n",
    "    plt.title(\"Sound frequencies of Pop Vs Jazz music\")\n",
    "    plt.ylabel(\"Frequency indicators\")\n",
    "    plt.legend()\n",
    "    plt.show()"
   ]
  },
  {
   "cell_type": "code",
   "execution_count": 23,
   "metadata": {},
   "outputs": [],
   "source": [
    "# pop_vs_jazz(data)"
   ]
  },
  {
   "cell_type": "code",
   "execution_count": 24,
   "metadata": {},
   "outputs": [],
   "source": [
    "def pop_vs_reggae(data):\n",
    "    plt.figure(figsize=(18, 2))\n",
    "    plt.plot(data[\"pop.00004.wav\"].values, color=\"#F30C75\", label=\"Pop\")\n",
    "    plt.plot(data[\"reggae.00004.wav\"], color=\"#0CF3E9\",label=\"Reggae\")\n",
    "    plt.title(\"Sound frequencies of Pop Vs Reggae music\")\n",
    "    plt.ylabel(\"Frequency indicators\")\n",
    "    plt.legend()\n",
    "    plt.show()"
   ]
  },
  {
   "cell_type": "code",
   "execution_count": 26,
   "metadata": {},
   "outputs": [],
   "source": [
    "# pop_vs_reggae(data)"
   ]
  },
  {
   "cell_type": "code",
   "execution_count": 27,
   "metadata": {},
   "outputs": [],
   "source": [
    "def pop_vs_metal(data):\n",
    "    plt.figure(figsize=(18, 2))\n",
    "    plt.plot(data[\"pop.00004.wav\"].values, color=\"#F30C75\", label=\"Pop\")\n",
    "    plt.plot(data[\"metal.00004.wav\"], color=\"#BB0BEA\",label=\"Metal\")\n",
    "    plt.title(\"Sound frequencies of Pop Vs Metal music\")\n",
    "    plt.ylabel(\"Frequency indicators\")\n",
    "    plt.legend()\n",
    "    plt.show()"
   ]
  },
  {
   "cell_type": "code",
   "execution_count": 28,
   "metadata": {},
   "outputs": [],
   "source": [
    "# pop_vs_metal(data)"
   ]
  },
  {
   "cell_type": "code",
   "execution_count": 29,
   "metadata": {},
   "outputs": [],
   "source": [
    "def pop_vs_disco(data):\n",
    "    plt.figure(figsize=(18, 2))\n",
    "    plt.plot(data[\"pop.00004.wav\"].values, color=\"#F30C75\", label=\"Pop\")\n",
    "    plt.plot(data[\"disco.00004.wav\"], color=\"cyan\",label=\"Disco\")\n",
    "    plt.title(\"Sound frequencies of Pop Vs Disco music\")\n",
    "    plt.ylabel(\"Frequency indicators\")\n",
    "    plt.legend()\n",
    "    plt.show()"
   ]
  },
  {
   "cell_type": "code",
   "execution_count": 30,
   "metadata": {},
   "outputs": [],
   "source": [
    "# pop_vs_disco(data)"
   ]
  },
  {
   "cell_type": "code",
   "execution_count": 31,
   "metadata": {},
   "outputs": [],
   "source": [
    "def pop_vs_country(data):\n",
    "    plt.figure(figsize=(18, 2))\n",
    "    plt.plot(data[\"pop.00004.wav\"].values, color=\"#F30C75\", label=\"Pop\")\n",
    "    plt.plot(data[\"country.00004.wav\"], color=\"yellow\",label=\"Country\")\n",
    "    plt.title(\"Sound frequencies of Pop Vs Country music\")\n",
    "    plt.ylabel(\"Frequency indicators\")\n",
    "    plt.legend()\n",
    "    plt.show()"
   ]
  },
  {
   "cell_type": "code",
   "execution_count": 32,
   "metadata": {},
   "outputs": [],
   "source": [
    "# pop_vs_country(data)"
   ]
  },
  {
   "cell_type": "code",
   "execution_count": 33,
   "metadata": {},
   "outputs": [],
   "source": [
    "def pop_vs_classical(data):\n",
    "    plt.figure(figsize=(18, 2))\n",
    "    plt.plot(data[\"pop.00004.wav\"].values, color=\"#F30C75\", label=\"Pop\")\n",
    "    plt.plot(data[\"classical.00004.wav\"], color=\"magenta\",label=\"Classical\")\n",
    "    plt.title(\"Sound frequencies of Pop Vs Classical music\")\n",
    "    plt.ylabel(\"Frequency indicators\")\n",
    "    plt.legend()\n",
    "    plt.show()"
   ]
  },
  {
   "cell_type": "code",
   "execution_count": 34,
   "metadata": {},
   "outputs": [],
   "source": [
    "# pop_vs_classical(data)"
   ]
  },
  {
   "cell_type": "code",
   "execution_count": 35,
   "metadata": {},
   "outputs": [],
   "source": [
    "def pop_vs_blues(data):\n",
    "    plt.figure(figsize=(18, 2))\n",
    "    plt.plot(data[\"pop.00004.wav\"].values, color=\"#F30C75\", label=\"Pop\")\n",
    "    plt.plot(data[\"blues.00004.wav\"], color=\"green\",label=\"Blues\")\n",
    "    plt.title(\"Sound frequencies of Pop Vs Blues music\")\n",
    "    plt.ylabel(\"Frequency indicators\")\n",
    "    plt.legend()\n",
    "    plt.show()"
   ]
  },
  {
   "cell_type": "code",
   "execution_count": 36,
   "metadata": {},
   "outputs": [],
   "source": [
    "# pop_vs_blues(data)"
   ]
  },
  {
   "cell_type": "code",
   "execution_count": 37,
   "metadata": {},
   "outputs": [],
   "source": [
    "def pop_vs_hiphop(data):\n",
    "    plt.figure(figsize=(18, 2))\n",
    "    plt.plot(data[\"pop.00004.wav\"].values, color=\"#F30C75\", label=\"Pop\")\n",
    "    plt.plot(data[\"hiphop.00004.wav\"], color=\"orange\",label=\"Hiphop\")\n",
    "    plt.title(\"Sound frequencies of Pop Vs Hiphop music\")\n",
    "    plt.ylabel(\"Frequency indicators\")\n",
    "    plt.legend()\n",
    "    plt.show()"
   ]
  },
  {
   "cell_type": "code",
   "execution_count": 38,
   "metadata": {},
   "outputs": [],
   "source": [
    "# pop_vs_hiphop(data)"
   ]
  },
  {
   "cell_type": "code",
   "execution_count": 39,
   "metadata": {},
   "outputs": [],
   "source": [
    "def pop_vs_rock(data):\n",
    "    plt.figure(figsize=(18, 2))\n",
    "    plt.plot(data[\"pop.00004.wav\"].values, color=\"#F30C75\", label=\"Pop\")\n",
    "    plt.plot(data[\"rock.00004.wav\"], color=\"blue\",label=\"Rock\")\n",
    "    plt.title(\"Sound frequencies of Pop Vs Rock music\")\n",
    "    plt.ylabel(\"Frequency indicators\")\n",
    "    plt.legend()\n",
    "    plt.show()"
   ]
  },
  {
   "cell_type": "code",
   "execution_count": 40,
   "metadata": {},
   "outputs": [],
   "source": [
    "# pop_vs_rock(data)"
   ]
  },
  {
   "cell_type": "code",
   "execution_count": 41,
   "metadata": {},
   "outputs": [],
   "source": [
    "encoder = LabelEncoder()\n",
    "\n",
    "\n",
    "features['audio_path'] = encoder.fit_transform(features['audio_path'])\n",
    "features['genre'] = encoder.fit_transform(features['genre'])\n",
    "\n",
    "print(features)\n",
    "print(features.head())\n",
    "print(features.dtypes)\n"
   ]
  },
  {
   "cell_type": "code",
   "execution_count": 42,
   "metadata": {},
   "outputs": [
    {
     "ename": "NameError",
     "evalue": "name 'features' is not defined",
     "output_type": "error",
     "traceback": [
      "\u001b[0;31m---------------------------------------------------------------------------\u001b[0m",
      "\u001b[0;31mNameError\u001b[0m                                 Traceback (most recent call last)",
      "\u001b[1;32m/Users/user/Desktop/03-Machine-Learning-Classically-Punk-/Classically-Punk.ipynb Cell 47\u001b[0m line \u001b[0;36m1\n\u001b[0;32m----> <a href='vscode-notebook-cell:/Users/user/Desktop/03-Machine-Learning-Classically-Punk-/Classically-Punk.ipynb#X64sZmlsZQ%3D%3D?line=0'>1</a>\u001b[0m X \u001b[39m=\u001b[39m features\u001b[39m.\u001b[39mdrop(\u001b[39m'\u001b[39m\u001b[39mgenre\u001b[39m\u001b[39m'\u001b[39m, axis\u001b[39m=\u001b[39m\u001b[39m1\u001b[39m)\n\u001b[1;32m      <a href='vscode-notebook-cell:/Users/user/Desktop/03-Machine-Learning-Classically-Punk-/Classically-Punk.ipynb#X64sZmlsZQ%3D%3D?line=1'>2</a>\u001b[0m Y \u001b[39m=\u001b[39m features[\u001b[39m'\u001b[39m\u001b[39mgenre\u001b[39m\u001b[39m'\u001b[39m]\n\u001b[1;32m      <a href='vscode-notebook-cell:/Users/user/Desktop/03-Machine-Learning-Classically-Punk-/Classically-Punk.ipynb#X64sZmlsZQ%3D%3D?line=2'>3</a>\u001b[0m X_train, X_test, Y_train, Y_test \u001b[39m=\u001b[39m train_test_split(X, Y, test_size\u001b[39m=\u001b[39m\u001b[39m0.2\u001b[39m, random_state\u001b[39m=\u001b[39m\u001b[39m42\u001b[39m)\n",
      "\u001b[0;31mNameError\u001b[0m: name 'features' is not defined"
     ]
    }
   ],
   "source": [
    "X = features.drop('genre', axis=1)\n",
    "Y = features['genre']\n",
    "X_train, X_test, Y_train, Y_test = train_test_split(X, Y, test_size=0.2, random_state=42)"
   ]
  },
  {
   "cell_type": "code",
   "execution_count": 43,
   "metadata": {},
   "outputs": [],
   "source": [
    "def print_fit_model(model):\n",
    "    model.fit(X_train, Y_train)\n",
    "    y_pred = model.predict(X_test)\n",
    "    print('Model name:', str(model))\n",
    "    print(f'Accurance score: {int(metrics.accuracy_score(Y_test, y_pred) * 100)}%')\n",
    "    print(f\"Mean squared error: {round(metrics.mean_squared_error(Y_test, y_pred), 2)}\")\n",
    "    print(f\"Cross Validation Score: {int(np.mean(cross_val_score(model, X_train, Y_train, cv=5)) * 100)}%\")\n",
    "    confusion_m = metrics.confusion_matrix(Y_test, y_pred)\n",
    "    fig = px.imshow(confusion_m , text_auto=True,width=400,height=400,title='Confussion matrix')\n",
    "    fig.show()"
   ]
  },
  {
   "cell_type": "code",
   "execution_count": 44,
   "metadata": {},
   "outputs": [
    {
     "ename": "NameError",
     "evalue": "name 'LogisticRegression' is not defined",
     "output_type": "error",
     "traceback": [
      "\u001b[0;31m---------------------------------------------------------------------------\u001b[0m",
      "\u001b[0;31mNameError\u001b[0m                                 Traceback (most recent call last)",
      "\u001b[1;32m/Users/user/Desktop/03-Machine-Learning-Classically-Punk-/Classically-Punk.ipynb Cell 49\u001b[0m line \u001b[0;36m1\n\u001b[0;32m----> <a href='vscode-notebook-cell:/Users/user/Desktop/03-Machine-Learning-Classically-Punk-/Classically-Punk.ipynb#Y100sZmlsZQ%3D%3D?line=0'>1</a>\u001b[0m model \u001b[39m=\u001b[39m LogisticRegression()\n\u001b[1;32m      <a href='vscode-notebook-cell:/Users/user/Desktop/03-Machine-Learning-Classically-Punk-/Classically-Punk.ipynb#Y100sZmlsZQ%3D%3D?line=1'>2</a>\u001b[0m print_fit_model(model)\n",
      "\u001b[0;31mNameError\u001b[0m: name 'LogisticRegression' is not defined"
     ]
    }
   ],
   "source": [
    "model = LogisticRegression()\n",
    "print_fit_model(model)"
   ]
  },
  {
   "cell_type": "code",
   "execution_count": 45,
   "metadata": {},
   "outputs": [
    {
     "ename": "NameError",
     "evalue": "name 'MLPClassifier' is not defined",
     "output_type": "error",
     "traceback": [
      "\u001b[0;31m---------------------------------------------------------------------------\u001b[0m",
      "\u001b[0;31mNameError\u001b[0m                                 Traceback (most recent call last)",
      "\u001b[1;32m/Users/user/Desktop/03-Machine-Learning-Classically-Punk-/Classically-Punk.ipynb Cell 50\u001b[0m line \u001b[0;36m1\n\u001b[0;32m----> <a href='vscode-notebook-cell:/Users/user/Desktop/03-Machine-Learning-Classically-Punk-/Classically-Punk.ipynb#Y101sZmlsZQ%3D%3D?line=0'>1</a>\u001b[0m model \u001b[39m=\u001b[39m MLPClassifier(hidden_layer_sizes\u001b[39m=\u001b[39m(\u001b[39m10\u001b[39m, \u001b[39m10\u001b[39m), activation\u001b[39m=\u001b[39m\u001b[39m'\u001b[39m\u001b[39mrelu\u001b[39m\u001b[39m'\u001b[39m)\n\u001b[1;32m      <a href='vscode-notebook-cell:/Users/user/Desktop/03-Machine-Learning-Classically-Punk-/Classically-Punk.ipynb#Y101sZmlsZQ%3D%3D?line=1'>2</a>\u001b[0m print_fit_model(model)\n",
      "\u001b[0;31mNameError\u001b[0m: name 'MLPClassifier' is not defined"
     ]
    }
   ],
   "source": [
    "model = MLPClassifier(hidden_layer_sizes=(10, 10), activation='relu')\n",
    "print_fit_model(model)"
   ]
  },
  {
   "cell_type": "code",
   "execution_count": 46,
   "metadata": {},
   "outputs": [
    {
     "ename": "NameError",
     "evalue": "name 'DecisionTreeClassifier' is not defined",
     "output_type": "error",
     "traceback": [
      "\u001b[0;31m---------------------------------------------------------------------------\u001b[0m",
      "\u001b[0;31mNameError\u001b[0m                                 Traceback (most recent call last)",
      "\u001b[1;32m/Users/user/Desktop/03-Machine-Learning-Classically-Punk-/Classically-Punk.ipynb Cell 51\u001b[0m line \u001b[0;36m1\n\u001b[0;32m----> <a href='vscode-notebook-cell:/Users/user/Desktop/03-Machine-Learning-Classically-Punk-/Classically-Punk.ipynb#Y102sZmlsZQ%3D%3D?line=0'>1</a>\u001b[0m model \u001b[39m=\u001b[39m DecisionTreeClassifier(criterion\u001b[39m=\u001b[39m\u001b[39m\"\u001b[39m\u001b[39mgini\u001b[39m\u001b[39m\"\u001b[39m, max_depth\u001b[39m=\u001b[39m\u001b[39mNone\u001b[39;00m, min_samples_split\u001b[39m=\u001b[39m\u001b[39m20\u001b[39m, min_samples_leaf\u001b[39m=\u001b[39m\u001b[39m40\u001b[39m, max_features\u001b[39m=\u001b[39m\u001b[39mNone\u001b[39;00m, random_state\u001b[39m=\u001b[39m\u001b[39m52\u001b[39m)\n\u001b[1;32m      <a href='vscode-notebook-cell:/Users/user/Desktop/03-Machine-Learning-Classically-Punk-/Classically-Punk.ipynb#Y102sZmlsZQ%3D%3D?line=1'>2</a>\u001b[0m print_fit_model(model)\n",
      "\u001b[0;31mNameError\u001b[0m: name 'DecisionTreeClassifier' is not defined"
     ]
    }
   ],
   "source": [
    "model = DecisionTreeClassifier(criterion=\"gini\", max_depth=None, min_samples_split=20, min_samples_leaf=40, max_features=None, random_state=52)\n",
    "print_fit_model(model)"
   ]
  },
  {
   "cell_type": "code",
   "execution_count": 47,
   "metadata": {},
   "outputs": [
    {
     "ename": "NameError",
     "evalue": "name 'ExtraTreesClassifier' is not defined",
     "output_type": "error",
     "traceback": [
      "\u001b[0;31m---------------------------------------------------------------------------\u001b[0m",
      "\u001b[0;31mNameError\u001b[0m                                 Traceback (most recent call last)",
      "\u001b[1;32m/Users/user/Desktop/03-Machine-Learning-Classically-Punk-/Classically-Punk.ipynb Cell 52\u001b[0m line \u001b[0;36m1\n\u001b[0;32m----> <a href='vscode-notebook-cell:/Users/user/Desktop/03-Machine-Learning-Classically-Punk-/Classically-Punk.ipynb#Y103sZmlsZQ%3D%3D?line=0'>1</a>\u001b[0m model \u001b[39m=\u001b[39m ExtraTreesClassifier(n_estimators\u001b[39m=\u001b[39m\u001b[39m400\u001b[39m, criterion\u001b[39m=\u001b[39m\u001b[39m'\u001b[39m\u001b[39mgini\u001b[39m\u001b[39m'\u001b[39m, max_depth\u001b[39m=\u001b[39m\u001b[39mNone\u001b[39;00m, min_samples_split\u001b[39m=\u001b[39m\u001b[39m2\u001b[39m, min_samples_leaf\u001b[39m=\u001b[39m\u001b[39m2\u001b[39m, max_features\u001b[39m=\u001b[39m\u001b[39m'\u001b[39m\u001b[39msqrt\u001b[39m\u001b[39m'\u001b[39m, bootstrap\u001b[39m=\u001b[39m\u001b[39mFalse\u001b[39;00m, random_state\u001b[39m=\u001b[39m\u001b[39m42\u001b[39m)\n\u001b[1;32m      <a href='vscode-notebook-cell:/Users/user/Desktop/03-Machine-Learning-Classically-Punk-/Classically-Punk.ipynb#Y103sZmlsZQ%3D%3D?line=1'>2</a>\u001b[0m print_fit_model(model)\n",
      "\u001b[0;31mNameError\u001b[0m: name 'ExtraTreesClassifier' is not defined"
     ]
    }
   ],
   "source": [
    "model = ExtraTreesClassifier(n_estimators=400, criterion='gini', max_depth=None, min_samples_split=2, min_samples_leaf=2, max_features='sqrt', bootstrap=False, random_state=42)\n",
    "print_fit_model(model)"
   ]
  },
  {
   "cell_type": "code",
   "execution_count": 48,
   "metadata": {},
   "outputs": [
    {
     "ename": "NameError",
     "evalue": "name 'GradientBoostingClassifier' is not defined",
     "output_type": "error",
     "traceback": [
      "\u001b[0;31m---------------------------------------------------------------------------\u001b[0m",
      "\u001b[0;31mNameError\u001b[0m                                 Traceback (most recent call last)",
      "\u001b[1;32m/Users/user/Desktop/03-Machine-Learning-Classically-Punk-/Classically-Punk.ipynb Cell 53\u001b[0m line \u001b[0;36m1\n\u001b[0;32m----> <a href='vscode-notebook-cell:/Users/user/Desktop/03-Machine-Learning-Classically-Punk-/Classically-Punk.ipynb#Y104sZmlsZQ%3D%3D?line=0'>1</a>\u001b[0m model \u001b[39m=\u001b[39m GradientBoostingClassifier(n_estimators\u001b[39m=\u001b[39m\u001b[39m150\u001b[39m)\n\u001b[1;32m      <a href='vscode-notebook-cell:/Users/user/Desktop/03-Machine-Learning-Classically-Punk-/Classically-Punk.ipynb#Y104sZmlsZQ%3D%3D?line=1'>2</a>\u001b[0m print_fit_model(model)\n",
      "\u001b[0;31mNameError\u001b[0m: name 'GradientBoostingClassifier' is not defined"
     ]
    }
   ],
   "source": [
    "model = GradientBoostingClassifier(n_estimators=150)\n",
    "print_fit_model(model)"
   ]
  },
  {
   "cell_type": "code",
   "execution_count": 49,
   "metadata": {},
   "outputs": [
    {
     "ename": "NameError",
     "evalue": "name 'GaussianNB' is not defined",
     "output_type": "error",
     "traceback": [
      "\u001b[0;31m---------------------------------------------------------------------------\u001b[0m",
      "\u001b[0;31mNameError\u001b[0m                                 Traceback (most recent call last)",
      "\u001b[1;32m/Users/user/Desktop/03-Machine-Learning-Classically-Punk-/Classically-Punk.ipynb Cell 54\u001b[0m line \u001b[0;36m1\n\u001b[0;32m----> <a href='vscode-notebook-cell:/Users/user/Desktop/03-Machine-Learning-Classically-Punk-/Classically-Punk.ipynb#Y105sZmlsZQ%3D%3D?line=0'>1</a>\u001b[0m model \u001b[39m=\u001b[39m GaussianNB()\n\u001b[1;32m      <a href='vscode-notebook-cell:/Users/user/Desktop/03-Machine-Learning-Classically-Punk-/Classically-Punk.ipynb#Y105sZmlsZQ%3D%3D?line=1'>2</a>\u001b[0m print_fit_model(model)\n",
      "\u001b[0;31mNameError\u001b[0m: name 'GaussianNB' is not defined"
     ]
    }
   ],
   "source": [
    "model = GaussianNB()\n",
    "print_fit_model(model)"
   ]
  },
  {
   "cell_type": "code",
   "execution_count": 50,
   "metadata": {},
   "outputs": [
    {
     "ename": "NameError",
     "evalue": "name 'KNeighborsClassifier' is not defined",
     "output_type": "error",
     "traceback": [
      "\u001b[0;31m---------------------------------------------------------------------------\u001b[0m",
      "\u001b[0;31mNameError\u001b[0m                                 Traceback (most recent call last)",
      "\u001b[1;32m/Users/user/Desktop/03-Machine-Learning-Classically-Punk-/Classically-Punk.ipynb Cell 55\u001b[0m line \u001b[0;36m1\n\u001b[0;32m----> <a href='vscode-notebook-cell:/Users/user/Desktop/03-Machine-Learning-Classically-Punk-/Classically-Punk.ipynb#Y106sZmlsZQ%3D%3D?line=0'>1</a>\u001b[0m model \u001b[39m=\u001b[39m KNeighborsClassifier(algorithm\u001b[39m=\u001b[39m\u001b[39m'\u001b[39m\u001b[39mauto\u001b[39m\u001b[39m'\u001b[39m, leaf_size\u001b[39m=\u001b[39m\u001b[39m30\u001b[39m,\n\u001b[1;32m      <a href='vscode-notebook-cell:/Users/user/Desktop/03-Machine-Learning-Classically-Punk-/Classically-Punk.ipynb#Y106sZmlsZQ%3D%3D?line=1'>2</a>\u001b[0m metric\u001b[39m=\u001b[39m\u001b[39m'\u001b[39m\u001b[39mminkowski\u001b[39m\u001b[39m'\u001b[39m,metric_params\u001b[39m=\u001b[39m\u001b[39mNone\u001b[39;00m, n_jobs\u001b[39m=\u001b[39m\u001b[39m10\u001b[39m,\n\u001b[1;32m      <a href='vscode-notebook-cell:/Users/user/Desktop/03-Machine-Learning-Classically-Punk-/Classically-Punk.ipynb#Y106sZmlsZQ%3D%3D?line=2'>3</a>\u001b[0m n_neighbors\u001b[39m=\u001b[39m\u001b[39m6\u001b[39m, p\u001b[39m=\u001b[39m\u001b[39m20\u001b[39m,weights\u001b[39m=\u001b[39m\u001b[39m'\u001b[39m\u001b[39muniform\u001b[39m\u001b[39m'\u001b[39m)\n\u001b[1;32m      <a href='vscode-notebook-cell:/Users/user/Desktop/03-Machine-Learning-Classically-Punk-/Classically-Punk.ipynb#Y106sZmlsZQ%3D%3D?line=3'>4</a>\u001b[0m print_fit_model(model)\n",
      "\u001b[0;31mNameError\u001b[0m: name 'KNeighborsClassifier' is not defined"
     ]
    }
   ],
   "source": [
    "model = KNeighborsClassifier(algorithm='auto', leaf_size=30,\n",
    "metric='minkowski',metric_params=None, n_jobs=10,\n",
    "n_neighbors=6, p=20,weights='uniform')\n",
    "print_fit_model(model)"
   ]
  },
  {
   "cell_type": "code",
   "execution_count": 51,
   "metadata": {},
   "outputs": [
    {
     "ename": "NameError",
     "evalue": "name 'RandomForestClassifier' is not defined",
     "output_type": "error",
     "traceback": [
      "\u001b[0;31m---------------------------------------------------------------------------\u001b[0m",
      "\u001b[0;31mNameError\u001b[0m                                 Traceback (most recent call last)",
      "\u001b[1;32m/Users/user/Desktop/03-Machine-Learning-Classically-Punk-/Classically-Punk.ipynb Cell 56\u001b[0m line \u001b[0;36m1\n\u001b[0;32m----> <a href='vscode-notebook-cell:/Users/user/Desktop/03-Machine-Learning-Classically-Punk-/Classically-Punk.ipynb#Y110sZmlsZQ%3D%3D?line=0'>1</a>\u001b[0m model \u001b[39m=\u001b[39m RandomForestClassifier(n_estimators\u001b[39m=\u001b[39m\u001b[39m100\u001b[39m,\n\u001b[1;32m      <a href='vscode-notebook-cell:/Users/user/Desktop/03-Machine-Learning-Classically-Punk-/Classically-Punk.ipynb#Y110sZmlsZQ%3D%3D?line=1'>2</a>\u001b[0m     criterion\u001b[39m=\u001b[39m\u001b[39m'\u001b[39m\u001b[39mgini\u001b[39m\u001b[39m'\u001b[39m,\n\u001b[1;32m      <a href='vscode-notebook-cell:/Users/user/Desktop/03-Machine-Learning-Classically-Punk-/Classically-Punk.ipynb#Y110sZmlsZQ%3D%3D?line=2'>3</a>\u001b[0m     max_depth\u001b[39m=\u001b[39m\u001b[39mNone\u001b[39;00m,\n\u001b[1;32m      <a href='vscode-notebook-cell:/Users/user/Desktop/03-Machine-Learning-Classically-Punk-/Classically-Punk.ipynb#Y110sZmlsZQ%3D%3D?line=3'>4</a>\u001b[0m     min_samples_split\u001b[39m=\u001b[39m\u001b[39m2\u001b[39m,\n\u001b[1;32m      <a href='vscode-notebook-cell:/Users/user/Desktop/03-Machine-Learning-Classically-Punk-/Classically-Punk.ipynb#Y110sZmlsZQ%3D%3D?line=4'>5</a>\u001b[0m     min_samples_leaf\u001b[39m=\u001b[39m\u001b[39m1\u001b[39m,\n\u001b[1;32m      <a href='vscode-notebook-cell:/Users/user/Desktop/03-Machine-Learning-Classically-Punk-/Classically-Punk.ipynb#Y110sZmlsZQ%3D%3D?line=5'>6</a>\u001b[0m     max_features\u001b[39m=\u001b[39m\u001b[39m'\u001b[39m\u001b[39msqrt\u001b[39m\u001b[39m'\u001b[39m,\n\u001b[1;32m      <a href='vscode-notebook-cell:/Users/user/Desktop/03-Machine-Learning-Classically-Punk-/Classically-Punk.ipynb#Y110sZmlsZQ%3D%3D?line=6'>7</a>\u001b[0m     random_state\u001b[39m=\u001b[39m\u001b[39m42\u001b[39m )\n\u001b[1;32m      <a href='vscode-notebook-cell:/Users/user/Desktop/03-Machine-Learning-Classically-Punk-/Classically-Punk.ipynb#Y110sZmlsZQ%3D%3D?line=7'>8</a>\u001b[0m print_fit_model(model)\n",
      "\u001b[0;31mNameError\u001b[0m: name 'RandomForestClassifier' is not defined"
     ]
    }
   ],
   "source": [
    "model = RandomForestClassifier(n_estimators=100,\n",
    "    criterion='gini',\n",
    "    max_depth=None,\n",
    "    min_samples_split=2,\n",
    "    min_samples_leaf=1,\n",
    "    max_features='sqrt',\n",
    "    random_state=42 )\n",
    "print_fit_model(model)"
   ]
  },
  {
   "cell_type": "code",
   "execution_count": null,
   "metadata": {},
   "outputs": [],
   "source": []
  },
  {
   "cell_type": "code",
   "execution_count": null,
   "metadata": {},
   "outputs": [],
   "source": []
  }
 ],
 "metadata": {
  "kernelspec": {
   "display_name": "Python 3",
   "language": "python",
   "name": "python3"
  },
  "language_info": {
   "codemirror_mode": {
    "name": "ipython",
    "version": 3
   },
   "file_extension": ".py",
   "mimetype": "text/x-python",
   "name": "python",
   "nbconvert_exporter": "python",
   "pygments_lexer": "ipython3",
   "version": "3.9.6"
  },
  "orig_nbformat": 4
 },
 "nbformat": 4,
 "nbformat_minor": 2
}
